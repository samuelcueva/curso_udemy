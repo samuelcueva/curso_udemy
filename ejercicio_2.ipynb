{
  "nbformat": 4,
  "nbformat_minor": 0,
  "metadata": {
    "colab": {
      "name": "Ejercicio_2.ipynb",
      "provenance": [],
      "toc_visible": true,
      "authorship_tag": "ABX9TyMpAtrHSAIY61P9x6Xctzh8",
      "include_colab_link": true
    },
    "kernelspec": {
      "name": "python3",
      "display_name": "Python 3"
    },
    "accelerator": "GPU"
  },
  "cells": [
    {
      "cell_type": "markdown",
      "metadata": {
        "id": "view-in-github",
        "colab_type": "text"
      },
      "source": [
        "<a href=\"https://colab.research.google.com/github/samuelcueva/tensorflow_course_udemy/blob/master/ejercicio_2.ipynb\" target=\"_parent\"><img src=\"https://colab.research.google.com/assets/colab-badge.svg\" alt=\"Open In Colab\"/></a>"
      ]
    },
    {
      "cell_type": "code",
      "metadata": {
        "id": "MbTczb6NMfiB",
        "colab_type": "code",
        "colab": {
          "base_uri": "https://localhost:8080/",
          "height": 35
        },
        "outputId": "b1dace93-ac14-4d8a-8e16-af8ddaad62e5"
      },
      "source": [
        "import tensorflow as tf\n",
        "import matplotlib.pyplot as plt\n",
        "import numpy as np\n",
        "tf.__version__"
      ],
      "execution_count": 1,
      "outputs": [
        {
          "output_type": "execute_result",
          "data": {
            "application/vnd.google.colaboratory.intrinsic+json": {
              "type": "string"
            },
            "text/plain": [
              "'2.2.0'"
            ]
          },
          "metadata": {
            "tags": []
          },
          "execution_count": 1
        }
      ]
    },
    {
      "cell_type": "markdown",
      "metadata": {
        "id": "IAHGlAL-TD_5",
        "colab_type": "text"
      },
      "source": [
        "## Preprocesado de datos"
      ]
    },
    {
      "cell_type": "code",
      "metadata": {
        "id": "u5a3QjXATAcX",
        "colab_type": "code",
        "colab": {
          "base_uri": "https://localhost:8080/",
          "height": 51
        },
        "outputId": "322a98d8-ccf0-44ec-e43e-5e37448ddcc2"
      },
      "source": [
        "(x_train,y_train),(x_test,y_test)=tf.keras.datasets.cifar10.load_data()"
      ],
      "execution_count": 2,
      "outputs": [
        {
          "output_type": "stream",
          "text": [
            "Downloading data from https://www.cs.toronto.edu/~kriz/cifar-10-python.tar.gz\n",
            "170500096/170498071 [==============================] - 4s 0us/step\n"
          ],
          "name": "stdout"
        }
      ]
    },
    {
      "cell_type": "code",
      "metadata": {
        "id": "ClvAzQgQUEin",
        "colab_type": "code",
        "colab": {
          "base_uri": "https://localhost:8080/",
          "height": 34
        },
        "outputId": "63e0017e-a201-4515-f899-7f823b4880fe"
      },
      "source": [
        "x_train.shape"
      ],
      "execution_count": 3,
      "outputs": [
        {
          "output_type": "execute_result",
          "data": {
            "text/plain": [
              "(50000, 32, 32, 3)"
            ]
          },
          "metadata": {
            "tags": []
          },
          "execution_count": 3
        }
      ]
    },
    {
      "cell_type": "code",
      "metadata": {
        "id": "-0MbUt4zUJ9w",
        "colab_type": "code",
        "colab": {
          "base_uri": "https://localhost:8080/",
          "height": 34
        },
        "outputId": "8aaaa516-f506-4e81-c5b8-091846eeb718"
      },
      "source": [
        "y_train.shape"
      ],
      "execution_count": 4,
      "outputs": [
        {
          "output_type": "execute_result",
          "data": {
            "text/plain": [
              "(50000, 1)"
            ]
          },
          "metadata": {
            "tags": []
          },
          "execution_count": 4
        }
      ]
    },
    {
      "cell_type": "code",
      "metadata": {
        "id": "VQJu0LPXUNC-",
        "colab_type": "code",
        "colab": {
          "base_uri": "https://localhost:8080/",
          "height": 283
        },
        "outputId": "16635aad-30d2-446d-9999-2f06bca5bd14"
      },
      "source": [
        "plt.imshow( x_train[0])"
      ],
      "execution_count": 5,
      "outputs": [
        {
          "output_type": "execute_result",
          "data": {
            "text/plain": [
              "<matplotlib.image.AxesImage at 0x7f17d52e1fd0>"
            ]
          },
          "metadata": {
            "tags": []
          },
          "execution_count": 5
        },
        {
          "output_type": "display_data",
          "data": {
            "image/png": "[encoded data removed]",
            "text/plain": [
              "<Figure size 432x288 with 1 Axes>"
            ]
          },
          "metadata": {
            "tags": [],
            "needs_background": "light"
          }
        }
      ]
    },
    {
      "cell_type": "code",
      "metadata": {
        "id": "WP_reHomUdji",
        "colab_type": "code",
        "colab": {}
      },
      "source": [
        "x_train=x_train/255.0\n",
        "x_test=x_test/255.0"
      ],
      "execution_count": 6,
      "outputs": []
    },
    {
      "cell_type": "code",
      "metadata": {
        "id": "8qwT26xQWJVJ",
        "colab_type": "code",
        "colab": {}
      },
      "source": [
        "dataset=tf.data.Dataset.from_tensor_slices((x_train,y_train))\n",
        "dataset=dataset.shuffle(50000).batch(32)"
      ],
      "execution_count": 7,
      "outputs": []
    },
    {
      "cell_type": "code",
      "metadata": {
        "id": "nAAS448BXjlo",
        "colab_type": "code",
        "colab": {
          "base_uri": "https://localhost:8080/",
          "height": 34
        },
        "outputId": "e193661a-e777-4066-81c3-73f019575f2a"
      },
      "source": [
        "print(\"forma de lote:\",next(iter(dataset.take(1)))[0].shape)"
      ],
      "execution_count": 8,
      "outputs": [
        {
          "output_type": "stream",
          "text": [
            "forma de lote: (32, 32, 32, 3)\n"
          ],
          "name": "stdout"
        }
      ]
    },
    {
      "cell_type": "markdown",
      "metadata": {
        "id": "63wMOAZRUoEZ",
        "colab_type": "text"
      },
      "source": [
        "## Construcción del modelo"
      ]
    },
    {
      "cell_type": "code",
      "metadata": {
        "id": "Q9vxzcPFtx-Q",
        "colab_type": "code",
        "colab": {}
      },
      "source": [
        "accuracy=[]\n",
        "times=[]\n",
        "epochs=[]"
      ],
      "execution_count": 105,
      "outputs": []
    },
    {
      "cell_type": "code",
      "metadata": {
        "id": "DhZtnV38yiKC",
        "colab_type": "code",
        "colab": {}
      },
      "source": [
        "from time import time\n",
        "class callback_time(tf.keras.callbacks.Callback):\n",
        "  def __init__(self):\n",
        "    super(callback_time,self).__init__()\n",
        "    self.times=[]\n",
        "    self.start=0\n",
        "    \n",
        "  def on_epoch_begin(self,epoch,logs={}):\n",
        "    self.start=time()\n",
        "  \n",
        "  def on_epoch_end(self,epoch,logs={}):\n",
        "    self.times.append(time()-self.start)\n",
        "\n",
        "  \n",
        "\n",
        "\n",
        "\n",
        "  "
      ],
      "execution_count": 106,
      "outputs": []
    },
    {
      "cell_type": "code",
      "metadata": {
        "id": "EnWhTaFbUPWv",
        "colab_type": "code",
        "colab": {}
      },
      "source": [
        "def build_model(units_per_block,kernel_per_block,lr):\n",
        "  model=tf.keras.Sequential([\n",
        "                             #block 1\n",
        "                             tf.keras.layers.Conv2D(units_per_block[0],kernel_size=kernel_per_block[0],padding=\"same\",activation=\"relu\",input_shape=(32,32,3)),\n",
        "                             tf.keras.layers.Conv2D(units_per_block[0],kernel_size=kernel_per_block[0],padding=\"same\",activation=\"relu\"),\n",
        "                             tf.keras.layers.MaxPool2D(pool_size=2, strides=2),\n",
        "                             #block 2\n",
        "                             tf.keras.layers.Conv2D(units_per_block[1],kernel_size=kernel_per_block[1],padding=\"same\",activation=\"relu\"),\n",
        "                             tf.keras.layers.Conv2D(units_per_block[1],kernel_size=kernel_per_block[1],padding=\"same\",activation=\"relu\"),\n",
        "                             tf.keras.layers.MaxPool2D(pool_size=2, strides=2),\n",
        "                             #block 3\n",
        "                             tf.keras.layers.Flatten(),\n",
        "                             tf.keras.layers.Dropout(0.2),\n",
        "                             tf.keras.layers.Dense(units_per_block[2],activation=\"relu\"),\n",
        "                             tf.keras.layers.Dense(10,activation=\"softmax\")\n",
        "                             \n",
        "  ])\n",
        "  optimizer=tf.keras.optimizers.Adam(lr)\n",
        "  model.compile(loss=\"sparse_categorical_crossentropy\", optimizer=optimizer, metrics=[\"sparse_categorical_accuracy\"])\n",
        "  return model,[units_per_block,kernel_per_block,lr]\n",
        "\n"
      ],
      "execution_count": 116,
      "outputs": []
    },
    {
      "cell_type": "code",
      "metadata": {
        "id": "arSCs9ZtnqXK",
        "colab_type": "code",
        "colab": {
          "base_uri": "https://localhost:8080/",
          "height": 493
        },
        "outputId": "d81b87ee-398a-466a-f13d-68d642d3c6aa"
      },
      "source": [
        "model,hiperparametros=build_model([32,64,128],[3,3],0.001)\n",
        "model.summary()"
      ],
      "execution_count": 117,
      "outputs": [
        {
          "output_type": "stream",
          "text": [
            "Model: \"sequential_19\"\n",
            "_________________________________________________________________\n",
            "Layer (type)                 Output Shape              Param #   \n",
            "=================================================================\n",
            "conv2d_76 (Conv2D)           (None, 32, 32, 32)        896       \n",
            "_________________________________________________________________\n",
            "conv2d_77 (Conv2D)           (None, 32, 32, 32)        9248      \n",
            "_________________________________________________________________\n",
            "max_pooling2d_38 (MaxPooling (None, 16, 16, 32)        0         \n",
            "_________________________________________________________________\n",
            "conv2d_78 (Conv2D)           (None, 16, 16, 64)        18496     \n",
            "_________________________________________________________________\n",
            "conv2d_79 (Conv2D)           (None, 16, 16, 64)        36928     \n",
            "_________________________________________________________________\n",
            "max_pooling2d_39 (MaxPooling (None, 8, 8, 64)          0         \n",
            "_________________________________________________________________\n",
            "flatten_19 (Flatten)         (None, 4096)              0         \n",
            "_________________________________________________________________\n",
            "dropout_3 (Dropout)          (None, 4096)              0         \n",
            "_________________________________________________________________\n",
            "dense_38 (Dense)             (None, 128)               524416    \n",
            "_________________________________________________________________\n",
            "dense_39 (Dense)             (None, 10)                1290      \n",
            "=================================================================\n",
            "Total params: 591,274\n",
            "Trainable params: 591,274\n",
            "Non-trainable params: 0\n",
            "_________________________________________________________________\n"
          ],
          "name": "stdout"
        }
      ]
    },
    {
      "cell_type": "code",
      "metadata": {
        "id": "DFoKXK0JU2UJ",
        "colab_type": "code",
        "colab": {
          "base_uri": "https://localhost:8080/",
          "height": 867
        },
        "outputId": "eeb857db-d82d-4368-a5e2-5a43b1c9bb8e"
      },
      "source": [
        "my_callback=callback_time()\n",
        "#model.fit(dataset,epochs=5,callbacks=[my_callback])\n",
        "history=model.fit(x_train,y_train,epochs=25,callbacks=[my_callback])\n"
      ],
      "execution_count": 118,
      "outputs": [
        {
          "output_type": "stream",
          "text": [
            "Epoch 1/25\n",
            "1563/1563 [==============================] - 7s 4ms/step - loss: 1.3883 - sparse_categorical_accuracy: 0.4990\n",
            "Epoch 2/25\n",
            "1563/1563 [==============================] - 6s 4ms/step - loss: 0.9608 - sparse_categorical_accuracy: 0.6610\n",
            "Epoch 3/25\n",
            "1563/1563 [==============================] - 6s 4ms/step - loss: 0.7887 - sparse_categorical_accuracy: 0.7236\n",
            "Epoch 4/25\n",
            "1563/1563 [==============================] - 7s 4ms/step - loss: 0.6809 - sparse_categorical_accuracy: 0.7603\n",
            "Epoch 5/25\n",
            "1563/1563 [==============================] - 6s 4ms/step - loss: 0.5958 - sparse_categorical_accuracy: 0.7868\n",
            "Epoch 6/25\n",
            "1563/1563 [==============================] - 6s 4ms/step - loss: 0.5247 - sparse_categorical_accuracy: 0.8133\n",
            "Epoch 7/25\n",
            "1563/1563 [==============================] - 6s 4ms/step - loss: 0.4588 - sparse_categorical_accuracy: 0.8366\n",
            "Epoch 8/25\n",
            "1563/1563 [==============================] - 6s 4ms/step - loss: 0.4100 - sparse_categorical_accuracy: 0.8551\n",
            "Epoch 9/25\n",
            "1563/1563 [==============================] - 6s 4ms/step - loss: 0.3598 - sparse_categorical_accuracy: 0.8712\n",
            "Epoch 10/25\n",
            "1563/1563 [==============================] - 6s 4ms/step - loss: 0.3197 - sparse_categorical_accuracy: 0.8843\n",
            "Epoch 11/25\n",
            "1563/1563 [==============================] - 6s 4ms/step - loss: 0.2947 - sparse_categorical_accuracy: 0.8942\n",
            "Epoch 12/25\n",
            "1563/1563 [==============================] - 6s 4ms/step - loss: 0.2703 - sparse_categorical_accuracy: 0.9036\n",
            "Epoch 13/25\n",
            "1563/1563 [==============================] - 6s 4ms/step - loss: 0.2413 - sparse_categorical_accuracy: 0.9145\n",
            "Epoch 14/25\n",
            "1563/1563 [==============================] - 6s 4ms/step - loss: 0.2314 - sparse_categorical_accuracy: 0.9181\n",
            "Epoch 15/25\n",
            "1563/1563 [==============================] - 6s 4ms/step - loss: 0.2182 - sparse_categorical_accuracy: 0.9224\n",
            "Epoch 16/25\n",
            "1563/1563 [==============================] - 6s 4ms/step - loss: 0.1984 - sparse_categorical_accuracy: 0.9298\n",
            "Epoch 17/25\n",
            "1563/1563 [==============================] - 7s 4ms/step - loss: 0.1880 - sparse_categorical_accuracy: 0.9335\n",
            "Epoch 18/25\n",
            "1563/1563 [==============================] - 6s 4ms/step - loss: 0.1809 - sparse_categorical_accuracy: 0.9365\n",
            "Epoch 19/25\n",
            "1563/1563 [==============================] - 6s 4ms/step - loss: 0.1698 - sparse_categorical_accuracy: 0.9397\n",
            "Epoch 20/25\n",
            "1563/1563 [==============================] - 6s 4ms/step - loss: 0.1720 - sparse_categorical_accuracy: 0.9399\n",
            "Epoch 21/25\n",
            "1563/1563 [==============================] - 6s 4ms/step - loss: 0.1565 - sparse_categorical_accuracy: 0.9448\n",
            "Epoch 22/25\n",
            "1563/1563 [==============================] - 6s 4ms/step - loss: 0.1507 - sparse_categorical_accuracy: 0.9467\n",
            "Epoch 23/25\n",
            "1563/1563 [==============================] - 6s 4ms/step - loss: 0.1554 - sparse_categorical_accuracy: 0.9469\n",
            "Epoch 24/25\n",
            "1563/1563 [==============================] - 6s 4ms/step - loss: 0.1484 - sparse_categorical_accuracy: 0.9490\n",
            "Epoch 25/25\n",
            "1563/1563 [==============================] - 6s 4ms/step - loss: 0.1409 - sparse_categorical_accuracy: 0.9519\n"
          ],
          "name": "stdout"
        }
      ]
    },
    {
      "cell_type": "code",
      "metadata": {
        "id": "1EVmzliXZk0j",
        "colab_type": "code",
        "colab": {
          "base_uri": "https://localhost:8080/",
          "height": 34
        },
        "outputId": "769f785e-f366-443b-cab9-cfb7fc40fffe"
      },
      "source": [
        "test_loss,test_accuracy=model.evaluate(x_test,y_test)\n",
        "accuracy.append((hiperparametros,test_accuracy))\n",
        "times.append(float(np.sum(my_callback.times)))\n",
        "epochs.append(len(history.epoch))"
      ],
      "execution_count": 119,
      "outputs": [
        {
          "output_type": "stream",
          "text": [
            "313/313 [==============================] - 1s 3ms/step - loss: 1.3749 - sparse_categorical_accuracy: 0.7486\n"
          ],
          "name": "stdout"
        }
      ]
    },
    {
      "cell_type": "code",
      "metadata": {
        "id": "ePanuTVpvBbi",
        "colab_type": "code",
        "colab": {
          "base_uri": "https://localhost:8080/",
          "height": 68
        },
        "outputId": "bc97bf16-baed-43b1-d466-7f1c07d9c05c"
      },
      "source": [
        "c=0\n",
        "for hiper,accu in accuracy:\n",
        "  c+=1\n",
        "  print(\"ejecución {} ---> epochs: {},  hiperp: {},  tiempo total: {:.4f},  accuracy: {:.4f}\".format(c,epochs[c-1],hiper,times[c-1],accu))"
      ],
      "execution_count": 120,
      "outputs": [
        {
          "output_type": "stream",
          "text": [
            "ejecución 1 ---> epochs: 5,  hiperp: [[32, 64, 128], [3, 3], 0.001],  tiempo total: 33.1111,  accuracy: 0.7433\n",
            "ejecución 2 ---> epochs: 25,  hiperp: [[32, 64, 128], [3, 3], 0.001],  tiempo total: 159.7293,  accuracy: 0.7181\n",
            "ejecución 3 ---> epochs: 25,  hiperp: [[32, 64, 128], [3, 3], 0.001],  tiempo total: 160.3143,  accuracy: 0.7486\n"
          ],
          "name": "stdout"
        }
      ]
    },
    {
      "cell_type": "code",
      "metadata": {
        "id": "BBIJPxKnk8Gy",
        "colab_type": "code",
        "colab": {
          "base_uri": "https://localhost:8080/",
          "height": 357
        },
        "outputId": "7348611f-3ebc-4d9a-b001-acb39a35ddec"
      },
      "source": [
        "!nvidia-smi"
      ],
      "execution_count": 60,
      "outputs": [
        {
          "output_type": "stream",
          "text": [
            "Wed Jul 29 01:39:23 2020       \n",
            "+-----------------------------------------------------------------------------+\n",
            "| NVIDIA-SMI 450.51.05    Driver Version: 418.67       CUDA Version: 10.1     |\n",
            "|-------------------------------+----------------------+----------------------+\n",
            "| GPU  Name        Persistence-M| Bus-Id        Disp.A | Volatile Uncorr. ECC |\n",
            "| Fan  Temp  Perf  Pwr:Usage/Cap|         Memory-Usage | GPU-Util  Compute M. |\n",
            "|                               |                      |               MIG M. |\n",
            "|===============================+======================+======================|\n",
            "|   0  Tesla T4            Off  | 00000000:00:04.0 Off |                    0 |\n",
            "| N/A   71C    P0    33W /  70W |    877MiB / 15079MiB |      0%      Default |\n",
            "|                               |                      |                 ERR! |\n",
            "+-------------------------------+----------------------+----------------------+\n",
            "                                                                               \n",
            "+-----------------------------------------------------------------------------+\n",
            "| Processes:                                                                  |\n",
            "|  GPU   GI   CI        PID   Type   Process name                  GPU Memory |\n",
            "|        ID   ID                                                   Usage      |\n",
            "|=============================================================================|\n",
            "|  No running processes found                                                 |\n",
            "+-----------------------------------------------------------------------------+\n"
          ],
          "name": "stdout"
        }
      ]
    },
    {
      "cell_type": "code",
      "metadata": {
        "id": "BFN85jLvk9mc",
        "colab_type": "code",
        "colab": {}
      },
      "source": [
        ""
      ],
      "execution_count": 53,
      "outputs": []
    }
  ]
}
